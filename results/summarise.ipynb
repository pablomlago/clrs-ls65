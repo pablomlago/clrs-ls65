{
 "cells": [
  {
   "cell_type": "code",
   "execution_count": 1,
   "outputs": [],
   "source": [
    "import pandas\n",
    "import numpy as np\n",
    "import seaborn as sns\n",
    "import matplotlib.pyplot as plt"
   ],
   "metadata": {
    "collapsed": false,
    "ExecuteTime": {
     "end_time": "2023-07-11T13:05:50.561105700Z",
     "start_time": "2023-07-11T13:05:50.544108600Z"
    }
   }
  },
  {
   "cell_type": "code",
   "execution_count": 2,
   "outputs": [],
   "source": [
    "data = pandas.read_csv('clrs_summary.txt', header=None, index_col=None)"
   ],
   "metadata": {
    "collapsed": false,
    "ExecuteTime": {
     "end_time": "2023-07-11T13:05:51.351194400Z",
     "start_time": "2023-07-11T13:05:51.313194500Z"
    }
   }
  },
  {
   "cell_type": "code",
   "execution_count": 3,
   "outputs": [],
   "source": [
    "softmax = np.unique(data[3])\n",
    "decay = [1.0, 0.9]\n",
    "algo_list = np.unique(data[0])"
   ],
   "metadata": {
    "collapsed": false,
    "ExecuteTime": {
     "end_time": "2023-07-11T13:05:53.201252900Z",
     "start_time": "2023-07-11T13:05:53.182754300Z"
    }
   }
  },
  {
   "cell_type": "markdown",
   "source": [
    "## Results summary"
   ],
   "metadata": {
    "collapsed": false
   }
  },
  {
   "cell_type": "code",
   "execution_count": 5,
   "outputs": [
    {
     "name": "stdout",
     "output_type": "stream",
     "text": [
      "activity_selector\n",
      " False 1.0: 96.46+-1.64 (count: 5)\n",
      " True 1.0: 95.48+-1.17 (count: 5)\n",
      " False 0.9: 88.83+-4.37 (count: 5)\n",
      " True 0.9: 90.50+-3.67 (count: 5)\n",
      "articulation_points\n",
      " False 1.0: 68.21+-33.58 (count: 5)\n",
      " True 1.0: 73.10+-21.77 (count: 5)\n",
      " False 0.9: 68.28+-7.89 (count: 4)\n",
      " True 0.9: 59.99+-8.26 (count: 4)\n",
      "bellman_ford\n",
      " False 1.0: 98.68+-0.34 (count: 5)\n",
      " True 1.0: 98.80+-0.14 (count: 3)\n",
      " False 0.9: 84.53+-31.51 (count: 5)\n",
      " True 0.9: 98.96+-0.35 (count: 5)\n",
      "bfs\n",
      " False 1.0: 99.46+-0.41 (count: 5)\n",
      " True 1.0: 99.63+-0.10 (count: 5)\n",
      " False 0.9: 99.54+-0.16 (count: 5)\n",
      " True 0.9: 99.50+-0.09 (count: 5)\n",
      "binary_search\n",
      " False 1.0: 60.98+-7.91 (count: 5)\n",
      " True 1.0: 64.64+-8.75 (count: 4)\n",
      " False 0.9: 58.88+-19.43 (count: 5)\n",
      " True 0.9: 66.49+-6.29 (count: 4)\n",
      "bridges\n",
      " False 1.0: 74.31+-17.35 (count: 5)\n",
      " True 1.0: 77.83+-14.64 (count: 5)\n",
      " False 0.9: 74.50+-30.95 (count: 5)\n",
      " True 0.9: 84.10+-18.15 (count: 5)\n",
      "bubble_sort\n",
      " False 1.0: 66.34+-6.29 (count: 5)\n",
      " True 1.0: 56.15+-10.39 (count: 4)\n",
      " False 0.9: 46.65+-29.37 (count: 5)\n",
      " True 0.9: 55.51+-17.15 (count: 5)\n",
      "dag_shortest_paths\n",
      " False 1.0: 89.17+-6.20 (count: 5)\n",
      " True 1.0: 83.18+-7.46 (count: 5)\n",
      " False 0.9: 77.13+-15.14 (count: 5)\n",
      " True 0.9: 82.56+-7.53 (count: 5)\n",
      "dfs\n",
      " False 1.0: 19.29+-7.94 (count: 4)\n",
      " True 1.0: 12.88+-3.44 (count: 5)\n",
      " False 0.9: 15.68+-5.96 (count: 5)\n",
      " True 0.9: 20.65+-8.01 (count: 5)\n",
      "dijkstra\n",
      " False 1.0: 96.51+-1.68 (count: 5)\n",
      " True 1.0: 97.99+-0.24 (count: 5)\n",
      " False 0.9: 94.46+-4.16 (count: 5)\n",
      " True 0.9: 96.02+-2.03 (count: 5)\n",
      "find_maximum_subarray_kadane\n",
      " False 1.0: 62.84+-6.45 (count: 5)\n",
      " True 1.0: 58.55+-5.99 (count: 5)\n",
      " False 0.9: 48.89+-5.83 (count: 5)\n",
      " True 0.9: 52.77+-3.30 (count: 5)\n",
      "floyd_warshall\n",
      " False 1.0: 8.55+-4.82 (count: 5)\n",
      " True 1.0: 25.77+-16.82 (count: 5)\n",
      " False 0.9: 18.90+-9.45 (count: 5)\n",
      " True 0.9: 32.52+-13.77 (count: 5)\n",
      "graham_scan\n",
      " False 1.0: 91.89+-2.57 (count: 5)\n",
      " True 1.0: 93.39+-3.04 (count: 5)\n",
      " False 0.9: 88.91+-2.55 (count: 5)\n",
      " True 0.9: 87.21+-7.70 (count: 5)\n",
      "heapsort\n",
      " False 1.0: 42.80+-18.85 (count: 5)\n",
      " True 1.0: 40.19+-21.86 (count: 5)\n",
      " False 0.9: 28.07+-25.11 (count: 5)\n",
      " True 0.9: 16.28+-11.72 (count: 5)\n",
      "insertion_sort\n",
      " False 1.0: 69.42+-7.87 (count: 5)\n",
      " True 1.0: 61.17+-17.13 (count: 5)\n",
      " False 0.9: 54.75+-22.40 (count: 5)\n",
      " True 0.9: 61.69+-9.92 (count: 5)\n",
      "jarvis_march\n",
      " False 1.0: 90.58+-1.79 (count: 5)\n",
      " True 1.0: 90.86+-1.73 (count: 5)\n",
      " False 0.9: 64.17+-30.05 (count: 5)\n",
      " True 0.9: 81.57+-13.63 (count: 5)\n",
      "kmp_matcher\n",
      " False 1.0: 10.70+-7.69 (count: 5)\n",
      " True 1.0: 4.16+-2.40 (count: 5)\n",
      " False 0.9: 11.20+-9.77 (count: 5)\n",
      " True 0.9: 20.59+-11.94 (count: 5)\n",
      "lcs_length\n",
      " False 1.0: 87.20+-0.84 (count: 5)\n",
      " True 1.0: 87.41+-0.92 (count: 5)\n",
      " False 0.9: 87.11+-1.71 (count: 4)\n",
      " True 0.9: 87.75+-0.97 (count: 5)\n",
      "matrix_chain_order\n",
      " False 1.0: 92.45+-1.11 (count: 5)\n",
      " True 1.0: 91.81+-1.07 (count: 5)\n",
      " False 0.9: 92.90+-1.49 (count: 5)\n",
      " True 0.9: 90.45+-2.77 (count: 5)\n",
      "minimum\n",
      " False 1.0: 93.29+-4.16 (count: 5)\n",
      " True 1.0: 95.77+-1.06 (count: 5)\n",
      " False 0.9: 95.46+-5.78 (count: 5)\n",
      " True 0.9: 96.08+-2.07 (count: 5)\n",
      "mst_kruskal\n",
      " False 1.0: 88.83+-2.29 (count: 5)\n",
      " True 1.0: 87.96+-0.73 (count: 5)\n",
      " False 0.9: 87.00+-2.32 (count: 5)\n",
      " True 0.9: 85.49+-2.63 (count: 5)\n",
      "mst_prim\n",
      " False 1.0: 86.41+-4.43 (count: 5)\n",
      " True 1.0: 87.42+-2.02 (count: 5)\n",
      " False 0.9: 79.43+-6.33 (count: 4)\n",
      " True 0.9: 76.68+-16.49 (count: 5)\n",
      "naive_string_matcher\n",
      " False 1.0: 17.50+-12.11 (count: 5)\n",
      " True 1.0: 8.52+-6.56 (count: 5)\n",
      " False 0.9: 9.85+-3.19 (count: 5)\n",
      " True 0.9: 10.16+-6.94 (count: 5)\n",
      "optimal_bst\n",
      " False 1.0: 82.93+-1.84 (count: 5)\n",
      " True 1.0: 82.90+-0.85 (count: 5)\n",
      " False 0.9: 82.52+-1.59 (count: 5)\n",
      " True 0.9: 81.82+-2.21 (count: 5)\n",
      "quickselect\n",
      " False 1.0: 0.78+-0.94 (count: 5)\n",
      " True 1.0: 0.63+-0.82 (count: 5)\n",
      " False 0.9: 1.37+-2.14 (count: 5)\n",
      " True 0.9: 1.62+-1.21 (count: 5)\n",
      "quicksort\n",
      " False 1.0: 43.54+-10.82 (count: 5)\n",
      " True 1.0: 49.22+-13.53 (count: 5)\n",
      " False 0.9: 31.76+-18.68 (count: 5)\n",
      " True 0.9: 46.46+-24.85 (count: 5)\n",
      "segments_intersect\n",
      " False 1.0: 98.59+-0.22 (count: 5)\n",
      " True 1.0: 98.74+-0.22 (count: 5)\n",
      " False 0.9: 98.68+-0.29 (count: 5)\n",
      " True 0.9: 98.81+-0.15 (count: 5)\n",
      "strongly_connected_components\n",
      " False 1.0: 43.23+-6.83 (count: 5)\n",
      " True 1.0: 37.26+-9.81 (count: 5)\n",
      " False 0.9: 43.63+-7.94 (count: 5)\n",
      " True 0.9: 32.53+-5.03 (count: 5)\n",
      "task_scheduling\n",
      " False 1.0: 87.26+-3.39 (count: 5)\n",
      " True 1.0: 87.58+-0.66 (count: 5)\n",
      " False 0.9: 86.88+-1.46 (count: 5)\n",
      " True 0.9: 86.34+-1.24 (count: 5)\n",
      "topological_sort\n",
      " False 1.0: 71.29+-3.25 (count: 5)\n",
      " True 1.0: 71.25+-7.05 (count: 5)\n",
      " False 0.9: 69.38+-8.40 (count: 5)\n",
      " True 0.9: 64.27+-6.15 (count: 5)\n",
      "Total: 30\n"
     ]
    }
   ],
   "source": [
    "for algo in algo_list:\n",
    "    print(algo)\n",
    "    for d in decay:\n",
    "        for s in softmax:\n",
    "            x = data[(data[0] == algo) & (data[2] == d) & (data[3] == s)].iloc[:,-1]\n",
    "            print(f'{s} {d}: {100*x.mean():.2f}+-{100*x.std():.2f} (count: {len(x)})')\n",
    "print(f'Total: {len(algo_list)}')"
   ],
   "metadata": {
    "collapsed": false,
    "ExecuteTime": {
     "end_time": "2023-07-11T13:05:57.664314900Z",
     "start_time": "2023-07-11T13:05:57.579316100Z"
    }
   }
  },
  {
   "cell_type": "markdown",
   "source": [
    "## LaTeX Report"
   ],
   "metadata": {
    "collapsed": false
   }
  },
  {
   "cell_type": "code",
   "execution_count": 6,
   "outputs": [
    {
     "name": "stdout",
     "output_type": "stream",
     "text": [
      "activity selector & \\entry{96.46}{1.64} & \\entry{95.48}{1.17} & \\entry{88.83}{4.37} & \\entry{90.50}{3.67} \\\\\n",
      "articulation points & \\entry{68.21}{33.58} & \\entry{73.10}{21.77} & \\entry{68.28}{7.89} & \\entry{59.99}{8.26} \\\\\n",
      "bellman ford & \\entry{98.68}{0.34} & \\entry{98.80}{0.14} & \\entry{84.53}{31.51} & \\entry{98.96}{0.35} \\\\\n",
      "bfs & \\entry{99.46}{0.41} & \\entry{99.63}{0.10} & \\entry{99.54}{0.16} & \\entry{99.50}{0.09} \\\\\n",
      "binary search & \\entry{60.98}{7.91} & \\entry{64.64}{8.75} & \\entry{58.88}{19.43} & \\entry{66.49}{6.29} \\\\\n",
      "bridges & \\entry{74.31}{17.35} & \\entry{77.83}{14.64} & \\entry{74.50}{30.95} & \\entry{84.10}{18.15} \\\\\n",
      "bubble sort & \\entry{66.34}{6.29} & \\entry{56.15}{10.39} & \\entry{46.65}{29.37} & \\entry{55.51}{17.15} \\\\\n",
      "dag shortest paths & \\entry{89.17}{6.20} & \\entry{83.18}{7.46} & \\entry{77.13}{15.14} & \\entry{82.56}{7.53} \\\\\n",
      "dfs & \\entry{19.29}{7.94} & \\entry{12.88}{3.44} & \\entry{15.68}{5.96} & \\entry{20.65}{8.01} \\\\\n",
      "dijkstra & \\entry{96.51}{1.68} & \\entry{97.99}{0.24} & \\entry{94.46}{4.16} & \\entry{96.02}{2.03} \\\\\n",
      "find maximum subarray kadane & \\entry{62.84}{6.45} & \\entry{58.55}{5.99} & \\entry{48.89}{5.83} & \\entry{52.77}{3.30} \\\\\n",
      "floyd warshall & \\entry{8.55}{4.82} & \\entry{25.77}{16.82} & \\entry{18.90}{9.45} & \\entry{32.52}{13.77} \\\\\n",
      "graham scan & \\entry{91.89}{2.57} & \\entry{93.39}{3.04} & \\entry{88.91}{2.55} & \\entry{87.21}{7.70} \\\\\n",
      "heapsort & \\entry{42.80}{18.85} & \\entry{40.19}{21.86} & \\entry{28.07}{25.11} & \\entry{16.28}{11.72} \\\\\n",
      "insertion sort & \\entry{69.42}{7.87} & \\entry{61.17}{17.13} & \\entry{54.75}{22.40} & \\entry{61.69}{9.92} \\\\\n",
      "jarvis march & \\entry{90.58}{1.79} & \\entry{90.86}{1.73} & \\entry{64.17}{30.05} & \\entry{81.57}{13.63} \\\\\n",
      "kmp matcher & \\entry{10.70}{7.69} & \\entry{4.16}{2.40} & \\entry{11.20}{9.77} & \\entry{20.59}{11.94} \\\\\n",
      "lcs length & \\entry{87.20}{0.84} & \\entry{87.41}{0.92} & \\entry{87.11}{1.71} & \\entry{87.75}{0.97} \\\\\n",
      "matrix chain order & \\entry{92.45}{1.11} & \\entry{91.81}{1.07} & \\entry{92.90}{1.49} & \\entry{90.45}{2.77} \\\\\n",
      "minimum & \\entry{93.29}{4.16} & \\entry{95.77}{1.06} & \\entry{95.46}{5.78} & \\entry{96.08}{2.07} \\\\\n",
      "mst kruskal & \\entry{88.83}{2.29} & \\entry{87.96}{0.73} & \\entry{87.00}{2.32} & \\entry{85.49}{2.63} \\\\\n",
      "mst prim & \\entry{86.41}{4.43} & \\entry{87.42}{2.02} & \\entry{79.43}{6.33} & \\entry{76.68}{16.49} \\\\\n",
      "naive string matcher & \\entry{17.50}{12.11} & \\entry{8.52}{6.56} & \\entry{9.85}{3.19} & \\entry{10.16}{6.94} \\\\\n",
      "optimal bst & \\entry{82.93}{1.84} & \\entry{82.90}{0.85} & \\entry{82.52}{1.59} & \\entry{81.82}{2.21} \\\\\n",
      "quickselect & \\entry{0.78}{0.94} & \\entry{0.63}{0.82} & \\entry{1.37}{2.14} & \\entry{1.62}{1.21} \\\\\n",
      "quicksort & \\entry{43.54}{10.82} & \\entry{49.22}{13.53} & \\entry{31.76}{18.68} & \\entry{46.46}{24.85} \\\\\n",
      "segments intersect & \\entry{98.59}{0.22} & \\entry{98.74}{0.22} & \\entry{98.68}{0.29} & \\entry{98.81}{0.15} \\\\\n",
      "strongly connected components & \\entry{43.23}{6.83} & \\entry{37.26}{9.81} & \\entry{43.63}{7.94} & \\entry{32.53}{5.03} \\\\\n",
      "task scheduling & \\entry{87.26}{3.39} & \\entry{87.58}{0.66} & \\entry{86.88}{1.46} & \\entry{86.34}{1.24} \\\\\n",
      "topological sort & \\entry{71.29}{3.25} & \\entry{71.25}{7.05} & \\entry{69.38}{8.40} & \\entry{64.27}{6.15} \\\\\n"
     ]
    }
   ],
   "source": [
    "for algo in algo_list:\n",
    "    string = algo\n",
    "    for d in decay:\n",
    "        for s in softmax:\n",
    "            x = data[(data[0] == algo) & (data[2] == d) & (data[3] == s)].iloc[:,-1]\n",
    "            string += f\" & \\\\entry{{{100*x.mean():.2f}}}{{{100*x.std():.2f}}}\"\n",
    "    string += \" \\\\\\\\\"\n",
    "    print(string.replace('_',' '))"
   ],
   "metadata": {
    "collapsed": false,
    "ExecuteTime": {
     "end_time": "2023-07-11T13:06:06.664532600Z",
     "start_time": "2023-07-11T13:06:06.575534200Z"
    }
   }
  },
  {
   "cell_type": "markdown",
   "source": [
    "Note:\n",
    "Entry is defined with `\\newcommand{\\entry}[2]{$#1\\%$\\tiny$\\pm#2$}`\n",
    "Best entries are marked bold manually."
   ],
   "metadata": {
    "collapsed": false
   }
  },
  {
   "cell_type": "code",
   "execution_count": null,
   "outputs": [],
   "source": [],
   "metadata": {
    "collapsed": false
   }
  }
 ],
 "metadata": {
  "kernelspec": {
   "display_name": "Python 3",
   "language": "python",
   "name": "python3"
  },
  "language_info": {
   "codemirror_mode": {
    "name": "ipython",
    "version": 2
   },
   "file_extension": ".py",
   "mimetype": "text/x-python",
   "name": "python",
   "nbconvert_exporter": "python",
   "pygments_lexer": "ipython2",
   "version": "2.7.6"
  }
 },
 "nbformat": 4,
 "nbformat_minor": 0
}
