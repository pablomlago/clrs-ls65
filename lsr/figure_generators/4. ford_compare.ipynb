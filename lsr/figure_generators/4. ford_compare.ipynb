{
 "cells": [
  {
   "cell_type": "code",
   "execution_count": 1,
   "metadata": {
    "collapsed": true,
    "ExecuteTime": {
     "start_time": "2023-05-18T16:34:18.649147Z",
     "end_time": "2023-05-18T16:34:18.680136Z"
    }
   },
   "outputs": [],
   "source": [
    "import matplotlib.pyplot as plt\n",
    "import numpy as np\n",
    "from alternative_ford import bellman_ford, greedy_ford, decay_ford, noisy_ford\n",
    "import seaborn as sns"
   ]
  },
  {
   "cell_type": "markdown",
   "source": [
    "Notebook to generate Figure 4 from the paper."
   ],
   "metadata": {
    "collapsed": false
   }
  },
  {
   "cell_type": "code",
   "execution_count": 2,
   "outputs": [],
   "source": [
    "data = np.load('../trajs.npz', allow_pickle=True)\n",
    "inputs = data['inputs']\n",
    "score = data['score']\n",
    "lengths = data['lengths']\n",
    "trajs = data['trajs']\n",
    "outputs = data['outputs']\n",
    "hints = data['hints']"
   ],
   "metadata": {
    "collapsed": false,
    "ExecuteTime": {
     "start_time": "2023-05-18T16:34:32.580655Z",
     "end_time": "2023-05-18T16:34:46.800138Z"
    }
   }
  },
  {
   "cell_type": "code",
   "execution_count": 3,
   "outputs": [
    {
     "data": {
      "text/plain": "16384"
     },
     "execution_count": 3,
     "metadata": {},
     "output_type": "execute_result"
    }
   ],
   "source": [
    "n = inputs[0].data.shape[0]\n",
    "n"
   ],
   "metadata": {
    "collapsed": false,
    "ExecuteTime": {
     "start_time": "2023-05-18T16:34:52.087387Z",
     "end_time": "2023-05-18T16:34:52.121882Z"
    }
   }
  },
  {
   "cell_type": "code",
   "execution_count": 4,
   "outputs": [
    {
     "data": {
      "text/plain": "array([ 7,  9,  8, ..., 11,  8,  7])"
     },
     "execution_count": 4,
     "metadata": {},
     "output_type": "execute_result"
    }
   ],
   "source": [
    "lengths"
   ],
   "metadata": {
    "collapsed": false,
    "ExecuteTime": {
     "start_time": "2023-05-18T16:34:53.126585Z",
     "end_time": "2023-05-18T16:34:53.162942Z"
    }
   }
  },
  {
   "cell_type": "code",
   "execution_count": 5,
   "outputs": [],
   "source": [
    "all_hints = np.array([x['pi_h'] for x in hints[:9]])[:,lengths==9,...]"
   ],
   "metadata": {
    "collapsed": false,
    "ExecuteTime": {
     "start_time": "2023-05-18T16:35:02.558598Z",
     "end_time": "2023-05-18T16:35:04.610099Z"
    }
   }
  },
  {
   "cell_type": "code",
   "execution_count": 6,
   "outputs": [
    {
     "data": {
      "text/plain": "(9, 4047, 64)"
     },
     "execution_count": 6,
     "metadata": {},
     "output_type": "execute_result"
    }
   ],
   "source": [
    "allpreds = np.argmax(all_hints, axis=-1)\n",
    "allpreds.shape"
   ],
   "metadata": {
    "collapsed": false,
    "ExecuteTime": {
     "start_time": "2023-05-18T16:35:05.486199Z",
     "end_time": "2023-05-18T16:35:05.817198Z"
    }
   }
  },
  {
   "cell_type": "code",
   "execution_count": 7,
   "outputs": [
    {
     "data": {
      "text/plain": "(4047, 64)"
     },
     "execution_count": 7,
     "metadata": {},
     "output_type": "execute_result"
    }
   ],
   "source": [
    "narpreds = allpreds[-1]\n",
    "narpreds.shape"
   ],
   "metadata": {
    "collapsed": false,
    "ExecuteTime": {
     "start_time": "2023-05-18T16:35:07.251516Z",
     "end_time": "2023-05-18T16:35:07.288517Z"
    }
   }
  },
  {
   "cell_type": "code",
   "execution_count": 8,
   "outputs": [],
   "source": [
    "allAs = np.array([inputs[2].data[i, ...] for i in range(n)])[lengths==9]\n",
    "allss = np.array([np.argmax(inputs[1].data[i, ...]) for i in range(n)])[lengths==9]"
   ],
   "metadata": {
    "collapsed": false,
    "ExecuteTime": {
     "start_time": "2023-05-18T16:35:08.971513Z",
     "end_time": "2023-05-18T16:35:09.654512Z"
    }
   }
  },
  {
   "cell_type": "code",
   "execution_count": 9,
   "outputs": [],
   "source": [
    "bf_out = [bellman_ford(allAs[i], allss[i], 9) for i in range(allss.shape[0])]"
   ],
   "metadata": {
    "collapsed": false,
    "ExecuteTime": {
     "start_time": "2023-05-18T16:35:10.399966Z",
     "end_time": "2023-05-18T16:35:59.409962Z"
    }
   }
  },
  {
   "cell_type": "code",
   "execution_count": 10,
   "outputs": [
    {
     "data": {
      "text/plain": "(4047, 9, 64)"
     },
     "execution_count": 10,
     "metadata": {},
     "output_type": "execute_result"
    }
   ],
   "source": [
    "all_preds = np.array([x[0] for x in bf_out])\n",
    "all_preds.shape"
   ],
   "metadata": {
    "collapsed": false,
    "ExecuteTime": {
     "start_time": "2023-05-18T16:37:44.893598Z",
     "end_time": "2023-05-18T16:37:44.924628Z"
    }
   }
  },
  {
   "cell_type": "code",
   "execution_count": 11,
   "outputs": [
    {
     "data": {
      "text/plain": "(4047, 64)"
     },
     "execution_count": 11,
     "metadata": {},
     "output_type": "execute_result"
    }
   ],
   "source": [
    "true_preds = all_preds[:,-1,:]\n",
    "true_preds.shape"
   ],
   "metadata": {
    "collapsed": false,
    "ExecuteTime": {
     "start_time": "2023-05-18T16:37:45.142145Z",
     "end_time": "2023-05-18T16:37:45.171180Z"
    }
   }
  },
  {
   "cell_type": "code",
   "execution_count": 12,
   "outputs": [],
   "source": [
    "decay_out = np.array([decay_ford(allAs[i], allss[i], 9) for i in range(allss.shape[0])])"
   ],
   "metadata": {
    "collapsed": false,
    "ExecuteTime": {
     "start_time": "2023-05-18T16:37:45.367181Z",
     "end_time": "2023-05-18T16:38:37.919681Z"
    }
   }
  },
  {
   "cell_type": "code",
   "execution_count": 13,
   "outputs": [
    {
     "data": {
      "text/plain": "(4047, 64)"
     },
     "execution_count": 13,
     "metadata": {},
     "output_type": "execute_result"
    }
   ],
   "source": [
    "decay_preds = decay_out[:,-1,:]\n",
    "decay_preds.shape"
   ],
   "metadata": {
    "collapsed": false,
    "ExecuteTime": {
     "start_time": "2023-05-18T16:38:37.921680Z",
     "end_time": "2023-05-18T16:38:37.935682Z"
    }
   }
  },
  {
   "cell_type": "code",
   "execution_count": 14,
   "outputs": [],
   "source": [
    "greedy_out =  np.array([greedy_ford(allAs[i], allss[i], 9) for i in range(allss.shape[0])])"
   ],
   "metadata": {
    "collapsed": false,
    "ExecuteTime": {
     "start_time": "2023-05-18T16:38:37.936181Z",
     "end_time": "2023-05-18T16:39:27.643180Z"
    }
   }
  },
  {
   "cell_type": "code",
   "execution_count": 15,
   "outputs": [
    {
     "data": {
      "text/plain": "(4047, 64)"
     },
     "execution_count": 15,
     "metadata": {},
     "output_type": "execute_result"
    }
   ],
   "source": [
    "greedy_preds = greedy_out[:,-1,:]\n",
    "greedy_preds.shape"
   ],
   "metadata": {
    "collapsed": false,
    "ExecuteTime": {
     "start_time": "2023-05-18T16:39:27.645182Z",
     "end_time": "2023-05-18T16:39:27.658681Z"
    }
   }
  },
  {
   "cell_type": "code",
   "execution_count": 16,
   "outputs": [],
   "source": [
    "noisy_out =  np.array([noisy_ford(allAs[i], allss[i], 9) for i in range(allss.shape[0])])"
   ],
   "metadata": {
    "collapsed": false,
    "ExecuteTime": {
     "start_time": "2023-05-18T16:39:27.660180Z",
     "end_time": "2023-05-18T16:42:05.432680Z"
    }
   }
  },
  {
   "cell_type": "code",
   "execution_count": 17,
   "outputs": [
    {
     "data": {
      "text/plain": "(4047, 64)"
     },
     "execution_count": 17,
     "metadata": {},
     "output_type": "execute_result"
    }
   ],
   "source": [
    "noisy_preds = noisy_out[:,-1,:]\n",
    "noisy_preds.shape"
   ],
   "metadata": {
    "collapsed": false,
    "ExecuteTime": {
     "start_time": "2023-05-18T16:42:05.432680Z",
     "end_time": "2023-05-18T16:42:05.448180Z"
    }
   }
  },
  {
   "cell_type": "code",
   "execution_count": 24,
   "outputs": [
    {
     "data": {
      "text/plain": "<Figure size 500x275 with 2 Axes>",
      "image/png": "[encoded data removed]"
     },
     "metadata": {},
     "output_type": "display_data"
    }
   ],
   "source": [
    "fig, (ax1, ax2) = plt.subplots(1, 2, figsize=(5,2.75))\n",
    "\n",
    "#ax1\n",
    "\n",
    "x = [narpreds, true_preds, noisy_preds, decay_preds, greedy_preds]\n",
    "total = narpreds.reshape(-1, 1).shape[0]\n",
    "conf = np.array([[np.count_nonzero(x[i]==x[j]) / total for i in range(5)] for j in range(5)])\n",
    "labels = ['NAR', 'Bellman', 'Noisy', 'Decay', 'Greedy']\n",
    "\n",
    "sns.heatmap(conf, annot=True, fmt='.0%', cbar=False, cmap='Blues', xticklabels=labels, yticklabels=labels, ax=ax1)\n",
    "\n",
    "#ax2\n",
    "\n",
    "was_true = np.any(allpreds == true_preds, axis=0)\n",
    "is_true = narpreds == true_preds\n",
    "change = np.array([[np.count_nonzero(was_true & is_true), np.count_nonzero((~was_true) & is_true)],\n",
    "          [np.count_nonzero(was_true & (~is_true)), np.count_nonzero((~was_true) & (~is_true))]]) / total\n",
    "labels = ['Correct', 'Incorrect']\n",
    "\n",
    "sns.heatmap(change, annot=True, fmt='.2%', cbar=False, cmap='Blues',xticklabels=labels, yticklabels=labels, ax=ax2)\n",
    "\n",
    "ax2.set_xlabel('Intermediate Predictions')\n",
    "ax2.set_ylabel('Final Predictions')\n",
    "\n",
    "#\n",
    "\n",
    "fig.tight_layout()\n",
    "fig.savefig('plots_new/4.png', dpi=400)\n"
   ],
   "metadata": {
    "collapsed": false,
    "ExecuteTime": {
     "start_time": "2023-05-18T16:55:29.064524Z",
     "end_time": "2023-05-18T16:55:29.606024Z"
    }
   }
  },
  {
   "cell_type": "code",
   "execution_count": 18,
   "outputs": [],
   "source": [],
   "metadata": {
    "collapsed": false
   }
  }
 ],
 "metadata": {
  "kernelspec": {
   "display_name": "Python 3",
   "language": "python",
   "name": "python3"
  },
  "language_info": {
   "codemirror_mode": {
    "name": "ipython",
    "version": 2
   },
   "file_extension": ".py",
   "mimetype": "text/x-python",
   "name": "python",
   "nbconvert_exporter": "python",
   "pygments_lexer": "ipython2",
   "version": "2.7.6"
  }
 },
 "nbformat": 4,
 "nbformat_minor": 0
}
